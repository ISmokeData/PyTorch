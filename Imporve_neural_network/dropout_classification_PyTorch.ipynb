{
  "nbformat": 4,
  "nbformat_minor": 0,
  "metadata": {
    "colab": {
      "provenance": [],
      "gpuType": "T4"
    },
    "kernelspec": {
      "name": "python3",
      "display_name": "Python 3"
    },
    "language_info": {
      "name": "python"
    },
    "accelerator": "GPU"
  },
  "cells": [
    {
      "cell_type": "code",
      "execution_count": 1,
      "metadata": {
        "id": "sWvTplAKOUH1"
      },
      "outputs": [],
      "source": [
        "import pandas as pd\n",
        "import numpy as np\n",
        "import matplotlib.pyplot as plt\n",
        "plt.style.use('fivethirtyeight')\n",
        "import seaborn as sns\n",
        "import warnings\n",
        "warnings.filterwarnings('ignore')\n",
        "import torch\n",
        "from torch import nn\n",
        "from torch.utils.data import DataLoader, TensorDataset"
      ]
    },
    {
      "cell_type": "code",
      "source": [
        "X = np.array([[-1.58986e-01,  4.23977e-01],\n",
        "       [-3.47926e-01,  4.70760e-01],\n",
        "       [-5.04608e-01,  3.53801e-01],\n",
        "       [-5.96774e-01,  1.14035e-01],\n",
        "       [-5.18433e-01, -1.72515e-01],\n",
        "       [-2.92627e-01, -2.07602e-01],\n",
        "       [-1.58986e-01, -4.38596e-02],\n",
        "       [-5.76037e-02,  1.43275e-01],\n",
        "       [-7.14286e-02,  2.71930e-01],\n",
        "       [-2.97235e-01,  3.47953e-01],\n",
        "       [-4.17051e-01,  2.01754e-01],\n",
        "       [-4.40092e-01,  8.77193e-03],\n",
        "       [-3.24885e-01, -3.21637e-02],\n",
        "       [-2.46544e-01,  5.55556e-02],\n",
        "       [-2.18894e-01,  2.01754e-01],\n",
        "       [-3.43318e-01,  1.60819e-01],\n",
        "       [-5.09217e-01,  7.89474e-02],\n",
        "       [-3.84793e-01, -9.06433e-02],\n",
        "       [-1.49770e-01,  1.25731e-01],\n",
        "       [-1.95853e-01,  3.24561e-01],\n",
        "       [-3.91705e-02, -2.19298e-01],\n",
        "       [-1.08295e-01, -3.01170e-01],\n",
        "       [-1.86636e-01, -3.30409e-01],\n",
        "       [-2.18894e-01, -4.23977e-01],\n",
        "       [-8.06452e-02, -5.64327e-01],\n",
        "       [ 6.68203e-02, -5.17544e-01],\n",
        "       [ 9.44700e-02, -3.24561e-01],\n",
        "       [ 1.86636e-01, -1.66667e-01],\n",
        "       [ 6.22120e-02, -7.30994e-02],\n",
        "       [ 2.07373e-02, -1.95906e-01],\n",
        "       [ 2.99539e-02, -3.42105e-01],\n",
        "       [-9.90783e-02, -3.77193e-01],\n",
        "       [-6.91244e-03, -4.64912e-01],\n",
        "       [ 1.31336e-01, -4.29825e-01],\n",
        "       [ 2.32719e-01, -1.95906e-01],\n",
        "       [ 8.52535e-02, -8.47953e-02],\n",
        "       [-1.31336e-01, -2.36842e-01],\n",
        "       [ 2.30415e-03, -1.25731e-01],\n",
        "       [ 1.22120e-01, -2.92398e-03],\n",
        "       [-3.47926e-01, -3.12865e-01],\n",
        "       [-2.28111e-01, -1.25731e-01],\n",
        "       [-7.60369e-02,  1.46199e-02],\n",
        "       [ 4.37788e-02,  2.04678e-02],\n",
        "       [ 1.15207e-02,  1.54971e-01],\n",
        "       [-4.17051e-01, -1.60819e-01],\n",
        "       [-3.15668e-01, -3.18713e-01],\n",
        "       [ 1.26728e-01, -2.19298e-01],\n",
        "       [ 2.05069e-01, -3.12865e-01],\n",
        "       [ 2.18894e-01, -4.59064e-01],\n",
        "       [ 7.14286e-02, -6.46199e-01],\n",
        "       [-1.31336e-01, -6.05263e-01],\n",
        "       [-2.09677e-01, -5.81871e-01],\n",
        "       [-2.28111e-01, -4.29825e-01],\n",
        "       [-1.45161e-01, -4.12281e-01],\n",
        "       [-6.68203e-02, -4.82456e-01],\n",
        "       [ 1.35945e-01, -5.11696e-01],\n",
        "       [ 2.69585e-01, -4.06433e-01],\n",
        "       [ 2.97235e-01, -2.95322e-01],\n",
        "       [ 2.74194e-01, -1.72515e-01],\n",
        "       [ 2.55760e-01, -4.97076e-02],\n",
        "       [ 2.23502e-01, -4.97076e-02],\n",
        "       [ 1.82028e-01, -8.47953e-02],\n",
        "       [ 1.58986e-01, -1.54971e-01],\n",
        "       [ 7.14286e-02, -2.13450e-01],\n",
        "       [ 1.61290e-02, -2.66082e-01],\n",
        "       [-2.53456e-02, -3.83041e-01],\n",
        "       [-1.15207e-02, -4.82456e-01],\n",
        "       [-2.30415e-03, -5.05848e-01],\n",
        "       [ 2.53456e-02, -5.11696e-01],\n",
        "       [ 2.53456e-02, -5.58480e-01],\n",
        "       [ 1.15207e-02, -6.57895e-01],\n",
        "       [-4.83871e-02, -6.46199e-01],\n",
        "       [-8.52535e-02, -5.52632e-01],\n",
        "       [-9.90783e-02, -5.00000e-01],\n",
        "       [-1.61290e-02, -4.23977e-01],\n",
        "       [ 1.31336e-01, -3.59649e-01],\n",
        "       [ 2.23502e-01, -3.71345e-01],\n",
        "       [ 2.92627e-01, -3.01170e-01],\n",
        "       [ 2.60369e-01, -2.07602e-01],\n",
        "       [ 2.00461e-01, -2.25146e-01],\n",
        "       [ 1.72811e-01, -2.71930e-01],\n",
        "       [-1.31336e-01,  9.06433e-02],\n",
        "       [-1.49770e-01,  7.30994e-02],\n",
        "       [-2.41935e-01,  6.14035e-02],\n",
        "       [-3.01843e-01,  1.78363e-01],\n",
        "       [-2.97235e-01,  1.95906e-01],\n",
        "       [-2.74194e-01,  3.07018e-01],\n",
        "       [-3.24885e-01,  2.95322e-01],\n",
        "       [-3.98618e-01,  2.66082e-01],\n",
        "       [-4.35484e-01,  1.60819e-01],\n",
        "       [-4.72350e-01,  7.89474e-02],\n",
        "       [-3.38710e-01,  4.38596e-02],\n",
        "       [-2.69585e-01,  4.38596e-02],\n",
        "       [-2.55760e-01,  1.02339e-01],\n",
        "       [-1.68203e-01,  2.66082e-01],\n",
        "       [-1.12903e-01,  3.01170e-01],\n",
        "       [-3.91705e-02,  3.47953e-01],\n",
        "       [-1.26728e-01,  4.41520e-01],\n",
        "       [-2.32719e-01,  4.41520e-01],\n",
        "       [-3.38710e-01,  4.18129e-01],\n",
        "       [-4.12442e-01,  3.53801e-01],\n",
        "       [-5.09217e-01,  2.19298e-01],\n",
        "       [-5.41475e-01,  1.46199e-02],\n",
        "       [-5.04608e-01, -1.25731e-01],\n",
        "       [-4.90783e-01, -1.43275e-01],\n",
        "       [-3.61751e-01, -1.37427e-01],\n",
        "       [-2.69585e-01, -8.47953e-02],\n",
        "       [-2.23502e-01, -7.89474e-02],\n",
        "       [-1.86636e-01, -3.80117e-02],\n",
        "       [-1.54378e-01, -8.77193e-03],\n",
        "       [-1.12903e-01,  5.55556e-02],\n",
        "       [-8.52535e-02,  1.37427e-01],\n",
        "       [-8.52535e-02,  2.77778e-01],\n",
        "       [-1.68203e-01,  3.01170e-01],\n",
        "       [-1.91244e-01,  1.95906e-01],\n",
        "       [-1.40553e-01, -4.97076e-02],\n",
        "       [-2.99539e-02,  6.72515e-02],\n",
        "       [-2.00461e-01, -2.30994e-01],\n",
        "       [-1.08295e-01, -8.47953e-02],\n",
        "       [ 3.45622e-02,  6.72515e-02],\n",
        "       [ 8.06452e-02,  1.19883e-01],\n",
        "       [-3.85369e-01,  3.30409e-02],\n",
        "       [-3.81221e-01,  1.31287e-01],\n",
        "       [-3.52189e-01,  2.58187e-01],\n",
        "       [-3.54263e-01,  3.64620e-01],\n",
        "       [-4.14401e-01, -6.92982e-02],\n",
        "       [-4.99424e-01, -3.24561e-02],\n",
        "       [-2.98272e-01, -9.79532e-02],\n",
        "       [-3.16935e-01, -1.83918e-01],\n",
        "       [-3.68779e-01, -2.90351e-01],\n",
        "       [-3.56336e-01, -3.96784e-01],\n",
        "       [-2.71313e-01,  4.38596e-03],\n",
        "       [-1.77995e-01,  8.62573e-02],\n",
        "       [-2.46429e-01,  1.43567e-01],\n",
        "       [-2.50576e-01,  2.29532e-01],\n",
        "       [-2.21544e-01,  3.76901e-01],\n",
        "       [-2.15323e-01,  2.95029e-01],\n",
        "       [-1.30300e-01,  2.17251e-01],\n",
        "       [-2.07028e-01,  2.89474e-02],\n",
        "       [-9.71198e-02,  2.13158e-01],\n",
        "       [-3.90553e-02,  2.58187e-01],\n",
        "       [ 1.90092e-02,  4.01462e-01],\n",
        "       [-3.69816e-02,  4.21930e-01],\n",
        "       [-6.39401e-02,  3.31871e-01],\n",
        "       [-1.30300e-01,  3.76901e-01],\n",
        "       [-3.75000e-01, -4.37719e-01],\n",
        "       [-3.95737e-01, -3.51754e-01],\n",
        "       [-3.54263e-01, -2.08480e-01],\n",
        "       [-4.37212e-01, -3.76316e-01],\n",
        "       [-4.80760e-01, -5.03216e-01],\n",
        "       [-4.10253e-01, -4.66374e-01],\n",
        "       [-2.48502e-01, -2.57602e-01],\n",
        "       [-2.27765e-01, -3.14912e-01],\n",
        "       [-2.83756e-01, -3.84503e-01],\n",
        "       [-2.92051e-01, -4.54094e-01],\n",
        "       [-3.37673e-01, -5.19591e-01],\n",
        "       [-2.77535e-01, -5.48246e-01],\n",
        "       [-2.07028e-01, -5.35965e-01],\n",
        "       [-1.86290e-01, -4.78655e-01],\n",
        "       [-1.32373e-01, -5.07310e-01],\n",
        "       [-1.77995e-01, -2.98538e-01],\n",
        "       [-1.65553e-01, -1.75731e-01],\n",
        "       [-1.61406e-01, -1.26608e-01],\n",
        "       [ 3.45622e-04,  2.58187e-01],\n",
        "       [ 7.91475e-02,  3.56433e-01],\n",
        "       [-2.66129e-02,  1.80409e-01],\n",
        "       [-5.35714e-02,  7.80702e-02],\n",
        "       [-1.41705e-02, -5.29240e-02],\n",
        "       [-7.01613e-02, -1.63450e-01],\n",
        "       [-6.39401e-02, -2.94444e-01],\n",
        "       [-3.07604e-02, -4.66374e-01],\n",
        "       [-5.77189e-02, -5.27778e-01],\n",
        "       [-5.35714e-02, -3.96784e-01],\n",
        "       [ 5.21889e-02, -4.17251e-01],\n",
        "       [-1.62442e-02, -1.67544e-01],\n",
        "       [-6.39401e-02, -8.56725e-02],\n",
        "       [-6.18664e-02, -1.60819e-02],\n",
        "       [-3.80184e-03,  4.38596e-03],\n",
        "       [ 4.18203e-02,  2.04971e-01],\n",
        "       [ 7.91475e-02,  1.92690e-01],\n",
        "       [ 4.59677e-02,  2.54094e-01],\n",
        "       [ 1.18548e-01,  1.92690e-01],\n",
        "       [ 1.10253e-01,  8.62573e-02],\n",
        "       [ 1.08180e-01, -6.92982e-02],\n",
        "       [ 1.66244e-01, -2.42690e-02],\n",
        "       [ 1.41359e-01,  6.57895e-02],\n",
        "       [ 1.43433e-01,  1.68129e-01],\n",
        "       [ 1.70392e-01,  1.92690e-01],\n",
        "       [ 1.08180e-01,  2.99123e-01],\n",
        "       [ 1.18548e-01,  3.19591e-01],\n",
        "       [ 1.26843e-01,  3.93275e-01],\n",
        "       [-8.67512e-02,  4.21930e-01],\n",
        "       [-4.73502e-02,  5.07895e-01],\n",
        "       [ 2.52304e-02,  5.20175e-01],\n",
        "       [ 6.25576e-02,  5.52924e-01],\n",
        "       [-5.87558e-03,  4.42398e-01],\n",
        "       [-5.14977e-02,  5.73392e-01],\n",
        "       [-8.05300e-02,  5.07895e-01],\n",
        "       [-1.53111e-01,  5.52924e-01],\n",
        "       [-1.11636e-01,  5.48830e-01],\n",
        "       [-1.63479e-01,  4.91520e-01],\n",
        "       [-2.52650e-01, -1.88012e-01],\n",
        "       [-2.46429e-01, -3.65497e-02],\n",
        "       [-3.21083e-01, -4.33626e-01],\n",
        "       [-3.31452e-01, -6.05556e-01],\n",
        "       [-3.85369e-01, -5.15497e-01],\n",
        "       [-3.99885e-01, -6.21930e-01],\n",
        "       [-1.24078e-01, -1.26608e-01],\n",
        "       [-3.16935e-01, -2.28947e-01],\n",
        "       [-2.94124e-01, -1.34795e-01],\n",
        "       [-1.53111e-01,  1.84503e-01]])"
      ],
      "metadata": {
        "id": "x8bkxp6sPDRi"
      },
      "execution_count": 2,
      "outputs": []
    },
    {
      "cell_type": "code",
      "source": [
        "y = np.array([1., 1., 1., 1., 1., 1., 1., 1., 1., 1., 1., 1., 1., 1., 1., 1., 1.,\n",
        "       1., 1., 1., 0., 0., 0., 0., 0., 0., 0., 0., 0., 0., 0., 0., 0., 0.,\n",
        "       0., 0., 1., 1., 1., 0., 0., 0., 0., 0., 0., 0., 0., 0., 0., 0., 0.,\n",
        "       0., 0., 0., 0., 0., 0., 0., 0., 0., 0., 0., 0., 0., 0., 0., 0., 0.,\n",
        "       0., 0., 0., 0., 0., 0., 0., 0., 0., 0., 0., 0., 0., 1., 1., 1., 1.,\n",
        "       1., 1., 1., 1., 1., 1., 1., 1., 1., 1., 1., 1., 1., 1., 1., 1., 1.,\n",
        "       1., 1., 1., 1., 1., 1., 1., 1., 1., 1., 1., 1., 1., 1., 1., 0., 0.,\n",
        "       0., 0., 1., 1., 1., 1., 1., 1., 1., 1., 1., 1., 1., 1., 1., 1., 1.,\n",
        "       1., 1., 1., 1., 1., 1., 1., 1., 1., 1., 1., 1., 1., 1., 1., 0., 0.,\n",
        "       0., 0., 0., 0., 0., 0., 0., 0., 0., 0., 0., 0., 0., 0., 0., 0., 0.,\n",
        "       0., 0., 0., 0., 0., 0., 0., 0., 0., 0., 0., 0., 0., 0., 0., 0., 0.,\n",
        "       0., 0., 0., 0., 1., 1., 1., 1., 1., 1., 1., 1., 1., 1., 1., 1., 1.,\n",
        "       0., 1., 1., 1., 1., 0., 0.])"
      ],
      "metadata": {
        "id": "MBw4Z3DqPcdW"
      },
      "execution_count": 3,
      "outputs": []
    },
    {
      "cell_type": "code",
      "source": [
        "import matplotlib.pyplot as plt\n",
        "plt.scatter(X[:,0], X[:,1], c=y)\n",
        "plt.show()"
      ],
      "metadata": {
        "colab": {
          "base_uri": "https://localhost:8080/",
          "height": 449
        },
        "id": "0K6g21jlPgev",
        "outputId": "42558913-9dca-47a1-f481-95944530992b"
      },
      "execution_count": 4,
      "outputs": [
        {
          "output_type": "display_data",
          "data": {
            "text/plain": [
              "<Figure size 640x480 with 1 Axes>"
            ],
            "image/png": "[encoded data removed]"
          },
          "metadata": {}
        }
      ]
    },
    {
      "cell_type": "code",
      "source": [
        "from sklearn.model_selection import train_test_split\n",
        "X_train, X_test, y_train, y_test = train_test_split(X, y, test_size=0.2, random_state=42)"
      ],
      "metadata": {
        "id": "uqh9jylySHQb"
      },
      "execution_count": 9,
      "outputs": []
    },
    {
      "cell_type": "code",
      "source": [
        "device = 'cuda' if torch.cuda.is_available() else 'cpu'\n",
        "device"
      ],
      "metadata": {
        "colab": {
          "base_uri": "https://localhost:8080/",
          "height": 36
        },
        "id": "pyGxhs_KQ8ch",
        "outputId": "6d4a2611-91f3-40b7-e3c3-8cd497dc159e"
      },
      "execution_count": 5,
      "outputs": [
        {
          "output_type": "execute_result",
          "data": {
            "text/plain": [
              "'cuda'"
            ],
            "application/vnd.google.colaboratory.intrinsic+json": {
              "type": "string"
            }
          },
          "metadata": {},
          "execution_count": 5
        }
      ]
    },
    {
      "cell_type": "code",
      "source": [
        "X_train = torch.from_numpy(X_train).type(torch.float)\n",
        "y_train = torch.from_numpy(y_train).type(torch.float)\n",
        "X_test = torch.from_numpy(X_test).type(torch.float)\n",
        "y_test = torch.from_numpy(y_test).type(torch.float)"
      ],
      "metadata": {
        "id": "jX-FG6-zSOFD"
      },
      "execution_count": 12,
      "outputs": []
    },
    {
      "cell_type": "code",
      "source": [
        "class Model(nn.Module):\n",
        "    def __init__(self):\n",
        "        super().__init__()\n",
        "        self.sequential = nn.Sequential(\n",
        "            nn.Linear(2, 50),\n",
        "            nn.ReLU(),\n",
        "            nn.Linear(50, 50),\n",
        "            nn.ReLU(),\n",
        "            nn.Linear(50, 1),\n",
        "        )\n",
        "    def forward(self, x):\n",
        "        return self.sequential(x)\n",
        "model = Model().to(device)\n",
        "model"
      ],
      "metadata": {
        "colab": {
          "base_uri": "https://localhost:8080/"
        },
        "id": "ausyXz2zPjqE",
        "outputId": "9de2ffd3-a71b-4835-8a40-c840e658d43b"
      },
      "execution_count": 21,
      "outputs": [
        {
          "output_type": "execute_result",
          "data": {
            "text/plain": [
              "Model(\n",
              "  (sequential): Sequential(\n",
              "    (0): Linear(in_features=2, out_features=50, bias=True)\n",
              "    (1): ReLU()\n",
              "    (2): Linear(in_features=50, out_features=50, bias=True)\n",
              "    (3): ReLU()\n",
              "    (4): Linear(in_features=50, out_features=1, bias=True)\n",
              "  )\n",
              ")"
            ]
          },
          "metadata": {},
          "execution_count": 21
        }
      ]
    },
    {
      "cell_type": "code",
      "source": [
        "# setup loss and optimizer\n",
        "loss_fn = nn.BCEWithLogitsLoss()\n",
        "optimizer = torch.optim.SGD(params=model.parameters(),\n",
        "                            lr=0.1)"
      ],
      "metadata": {
        "id": "1rEzdCTVRCjP"
      },
      "execution_count": 22,
      "outputs": []
    },
    {
      "cell_type": "code",
      "source": [
        "# !pip install torchmetrics"
      ],
      "metadata": {
        "colab": {
          "base_uri": "https://localhost:8080/"
        },
        "id": "9bTdSM7ITyvd",
        "outputId": "2ed1c8a4-ac30-4f5e-ab41-eb4b8510e805"
      },
      "execution_count": 10,
      "outputs": [
        {
          "output_type": "stream",
          "name": "stdout",
          "text": [
            "Collecting torchmetrics\n",
            "  Downloading torchmetrics-1.4.1-py3-none-any.whl.metadata (20 kB)\n",
            "Requirement already satisfied: numpy>1.20.0 in /usr/local/lib/python3.10/dist-packages (from torchmetrics) (1.26.4)\n",
            "Requirement already satisfied: packaging>17.1 in /usr/local/lib/python3.10/dist-packages (from torchmetrics) (24.1)\n",
            "Requirement already satisfied: torch>=1.10.0 in /usr/local/lib/python3.10/dist-packages (from torchmetrics) (2.4.0+cu121)\n",
            "Collecting lightning-utilities>=0.8.0 (from torchmetrics)\n",
            "  Downloading lightning_utilities-0.11.6-py3-none-any.whl.metadata (5.2 kB)\n",
            "Requirement already satisfied: setuptools in /usr/local/lib/python3.10/dist-packages (from lightning-utilities>=0.8.0->torchmetrics) (71.0.4)\n",
            "Requirement already satisfied: typing-extensions in /usr/local/lib/python3.10/dist-packages (from lightning-utilities>=0.8.0->torchmetrics) (4.12.2)\n",
            "Requirement already satisfied: filelock in /usr/local/lib/python3.10/dist-packages (from torch>=1.10.0->torchmetrics) (3.15.4)\n",
            "Requirement already satisfied: sympy in /usr/local/lib/python3.10/dist-packages (from torch>=1.10.0->torchmetrics) (1.13.2)\n",
            "Requirement already satisfied: networkx in /usr/local/lib/python3.10/dist-packages (from torch>=1.10.0->torchmetrics) (3.3)\n",
            "Requirement already satisfied: jinja2 in /usr/local/lib/python3.10/dist-packages (from torch>=1.10.0->torchmetrics) (3.1.4)\n",
            "Requirement already satisfied: fsspec in /usr/local/lib/python3.10/dist-packages (from torch>=1.10.0->torchmetrics) (2024.6.1)\n",
            "Requirement already satisfied: MarkupSafe>=2.0 in /usr/local/lib/python3.10/dist-packages (from jinja2->torch>=1.10.0->torchmetrics) (2.1.5)\n",
            "Requirement already satisfied: mpmath<1.4,>=1.1.0 in /usr/local/lib/python3.10/dist-packages (from sympy->torch>=1.10.0->torchmetrics) (1.3.0)\n",
            "Downloading torchmetrics-1.4.1-py3-none-any.whl (866 kB)\n",
            "\u001b[2K   \u001b[90m━━━━━━━━━━━━━━━━━━━━━━━━━━━━━━━━━━━━━━━━\u001b[0m \u001b[32m866.2/866.2 kB\u001b[0m \u001b[31m31.9 MB/s\u001b[0m eta \u001b[36m0:00:00\u001b[0m\n",
            "\u001b[?25hDownloading lightning_utilities-0.11.6-py3-none-any.whl (26 kB)\n",
            "Installing collected packages: lightning-utilities, torchmetrics\n",
            "Successfully installed lightning-utilities-0.11.6 torchmetrics-1.4.1\n"
          ]
        }
      ]
    },
    {
      "cell_type": "code",
      "source": [
        "from torchmetrics import Accuracy"
      ],
      "metadata": {
        "id": "m6UWYHZfTqif"
      },
      "execution_count": 15,
      "outputs": []
    },
    {
      "cell_type": "code",
      "source": [
        "# Random seeds\n",
        "torch.manual_seed(42)\n",
        "torch.cuda.manual_seed(42)\n",
        "\n",
        "# Put all data on target device\n",
        "X_train, y_train = X_train.to(device), y_train.to(device)\n",
        "X_test, y_test = X_test.to(device), y_test.to(device)\n",
        "\n",
        "# lopp\n",
        "epochs = 1500\n",
        "\n",
        "train_dataset = TensorDataset(X_train, y_train)\n",
        "train_loader = DataLoader(train_dataset, batch_size=32, shuffle=True)\n",
        "\n",
        "for epoch in range(epochs):\n",
        "  for X_train, y_train in train_loader:\n",
        "  # Training\n",
        "    model.train()\n",
        "\n",
        "  # 1. Forward pass\n",
        "    y_logits = model(X_train).squeeze()\n",
        "    y_pred = torch.round(torch.sigmoid(y_logits)) # logits -> pred probs -> pred labels\n",
        "\n",
        "  # 2. Calculate the loss\n",
        "    loss = loss_fn(y_logits, y_train) #BCEWithLogitLoss (takes in logits as first input)\n",
        "\n",
        "  # acc = Accuracy(task=\"binary\", num_classes=2).to(device)\n",
        "  # Accuracy_train = acc(y_pred, y_test,)\n",
        "\n",
        "\n",
        "  # 3. optimizer zero grad\n",
        "    optimizer.zero_grad()\n",
        "\n",
        "  # 4. loss backward\n",
        "    loss.backward()\n",
        "\n",
        "  # 5. optimizer step\n",
        "    optimizer.step()\n",
        "\n",
        "  # Testing\n",
        "  model.eval()\n",
        "  with torch.inference_mode():\n",
        "    test_logits = model(X_test).squeeze()\n",
        "    test_pred = torch.round(torch.sigmoid(test_logits))\n",
        "\n",
        "    test_loss = loss_fn(test_logits, y_test)\n",
        "    # acc = Accuracy(task=\"binary\", num_classes=2).to(device)\n",
        "    # Accuracy_test = acc(y_pred, y_test,)\n",
        "\n",
        "    # Print out what's happenin'\n",
        "    if epoch % 100 == 0:\n",
        "      # print(f\"Epoch: {epoch} | Loss: {loss:.5f}, Acc: {Accuracy_train:.2f}% | Test Loss: {test_loss:.5f}, Test Acc: {Accuracy_test:.2f}%\")\n",
        "      print(f\"Epoch: {epoch} | Loss: {loss:.5f} | Test Loss: {test_loss:.5f}\")"
      ],
      "metadata": {
        "colab": {
          "base_uri": "https://localhost:8080/"
        },
        "id": "WHs-U7mYRx0h",
        "outputId": "6431e2ae-dd90-434a-8eb3-c5289e1fedda"
      },
      "execution_count": 26,
      "outputs": [
        {
          "output_type": "stream",
          "name": "stdout",
          "text": [
            "Epoch: 0 | Loss: 0.35545 | Test Loss: 0.22974\n",
            "Epoch: 100 | Loss: 0.03603 | Test Loss: 0.19861\n",
            "Epoch: 200 | Loss: 0.21264 | Test Loss: 0.23768\n",
            "Epoch: 300 | Loss: 0.29110 | Test Loss: 0.20084\n",
            "Epoch: 400 | Loss: 0.14993 | Test Loss: 0.20516\n",
            "Epoch: 500 | Loss: 0.10032 | Test Loss: 0.20169\n",
            "Epoch: 600 | Loss: 0.16048 | Test Loss: 0.19604\n",
            "Epoch: 700 | Loss: 0.47841 | Test Loss: 0.21934\n",
            "Epoch: 800 | Loss: 0.07594 | Test Loss: 0.18711\n",
            "Epoch: 900 | Loss: 0.27129 | Test Loss: 0.18027\n",
            "Epoch: 1000 | Loss: 0.29120 | Test Loss: 0.19234\n",
            "Epoch: 1100 | Loss: 0.50525 | Test Loss: 0.19825\n",
            "Epoch: 1200 | Loss: 0.30787 | Test Loss: 0.17431\n",
            "Epoch: 1300 | Loss: 0.16457 | Test Loss: 0.16001\n",
            "Epoch: 1400 | Loss: 0.30181 | Test Loss: 0.22114\n"
          ]
        }
      ]
    },
    {
      "cell_type": "markdown",
      "source": [
        "# Dropout"
      ],
      "metadata": {
        "id": "AfMxtxnAXTPi"
      }
    },
    {
      "cell_type": "code",
      "source": [
        "class Model(nn.Module):\n",
        "    def __init__(self):\n",
        "        super().__init__()\n",
        "        self.sequential = nn.Sequential(\n",
        "            nn.Linear(2, 50),\n",
        "            nn.ReLU(),\n",
        "            nn.Dropout(0.2),\n",
        "            nn.Linear(50, 50),\n",
        "            nn.ReLU(),\n",
        "            nn.Dropout(0.2),\n",
        "            nn.Linear(50, 1),\n",
        "        )\n",
        "    def forward(self, x):\n",
        "        return self.sequential(x)\n",
        "model = Model().to(device)\n",
        "model"
      ],
      "metadata": {
        "colab": {
          "base_uri": "https://localhost:8080/"
        },
        "id": "f5T6L_NtVa5S",
        "outputId": "6de74fc8-14fc-46fc-a7d5-5d915202e955"
      },
      "execution_count": 27,
      "outputs": [
        {
          "output_type": "execute_result",
          "data": {
            "text/plain": [
              "Model(\n",
              "  (sequential): Sequential(\n",
              "    (0): Linear(in_features=2, out_features=50, bias=True)\n",
              "    (1): ReLU()\n",
              "    (2): Dropout(p=0.2, inplace=False)\n",
              "    (3): Linear(in_features=50, out_features=50, bias=True)\n",
              "    (4): ReLU()\n",
              "    (5): Dropout(p=0.2, inplace=False)\n",
              "    (6): Linear(in_features=50, out_features=1, bias=True)\n",
              "  )\n",
              ")"
            ]
          },
          "metadata": {},
          "execution_count": 27
        }
      ]
    },
    {
      "cell_type": "code",
      "source": [
        "# setup loss and optimizer\n",
        "loss_fn = nn.BCEWithLogitsLoss()\n",
        "optimizer = torch.optim.SGD(params=model.parameters(),\n",
        "                            lr=0.1)"
      ],
      "metadata": {
        "id": "RcwA8x2KXriu"
      },
      "execution_count": 28,
      "outputs": []
    },
    {
      "cell_type": "code",
      "source": [
        "# Random seeds\n",
        "torch.manual_seed(42)\n",
        "torch.cuda.manual_seed(42)\n",
        "\n",
        "# Put all data on target device\n",
        "X_train, y_train = X_train.to(device), y_train.to(device)\n",
        "X_test, y_test = X_test.to(device), y_test.to(device)\n",
        "\n",
        "# lopp\n",
        "epochs = 1200\n",
        "\n",
        "train_dataset = TensorDataset(X_train, y_train)\n",
        "train_loader = DataLoader(train_dataset, batch_size=32, shuffle=True)\n",
        "\n",
        "for epoch in range(epochs):\n",
        "  for X_train, y_train in train_loader:\n",
        "  # Training\n",
        "    model.train()\n",
        "\n",
        "  # 1. Forward pass\n",
        "    y_logits = model(X_train).squeeze()\n",
        "    y_pred = torch.round(torch.sigmoid(y_logits)) # logits -> pred probs -> pred labels\n",
        "\n",
        "  # 2. Calculate the loss\n",
        "    loss = loss_fn(y_logits, y_train) #BCEWithLogitLoss (takes in logits as first input)\n",
        "\n",
        "  # acc = Accuracy(task=\"binary\", num_classes=2).to(device)\n",
        "  # Accuracy_train = acc(y_pred, y_test,)\n",
        "\n",
        "\n",
        "  # 3. optimizer zero grad\n",
        "    optimizer.zero_grad()\n",
        "\n",
        "  # 4. loss backward\n",
        "    loss.backward()\n",
        "\n",
        "  # 5. optimizer step\n",
        "    optimizer.step()\n",
        "\n",
        "  # Testing\n",
        "  model.eval()\n",
        "  with torch.inference_mode():\n",
        "    test_logits = model(X_test).squeeze()\n",
        "    test_pred = torch.round(torch.sigmoid(test_logits))\n",
        "\n",
        "    test_loss = loss_fn(test_logits, y_test)\n",
        "    # acc = Accuracy(task=\"binary\", num_classes=2).to(device)\n",
        "    # Accuracy_test = acc(y_pred, y_test,)\n",
        "\n",
        "    # Print out what's happenin'\n",
        "    if epoch % 100 == 0:\n",
        "      # print(f\"Epoch: {epoch} | Loss: {loss:.5f}, Acc: {Accuracy_train:.2f}% | Test Loss: {test_loss:.5f}, Test Acc: {Accuracy_test:.2f}%\")\n",
        "      print(f\"Epoch: {epoch} | Loss: {loss:.5f} | Test Loss: {test_loss:.5f}\")"
      ],
      "metadata": {
        "colab": {
          "base_uri": "https://localhost:8080/"
        },
        "id": "P9CdPyS3XyY1",
        "outputId": "be454b32-1138-44ff-ad83-cdc45f28132d"
      },
      "execution_count": 30,
      "outputs": [
        {
          "output_type": "stream",
          "name": "stdout",
          "text": [
            "Epoch: 0 | Loss: 0.08812 | Test Loss: 1.90224\n",
            "Epoch: 100 | Loss: 0.00812 | Test Loss: 1.99924\n",
            "Epoch: 200 | Loss: 0.01308 | Test Loss: 2.15552\n",
            "Epoch: 300 | Loss: 0.02026 | Test Loss: 2.14391\n",
            "Epoch: 400 | Loss: 0.02501 | Test Loss: 2.27513\n",
            "Epoch: 500 | Loss: 0.01414 | Test Loss: 2.23976\n",
            "Epoch: 600 | Loss: 0.00329 | Test Loss: 2.42793\n",
            "Epoch: 700 | Loss: 0.00312 | Test Loss: 2.61767\n",
            "Epoch: 800 | Loss: 0.00397 | Test Loss: 2.64810\n",
            "Epoch: 900 | Loss: 0.00155 | Test Loss: 2.68269\n",
            "Epoch: 1000 | Loss: 0.00566 | Test Loss: 2.74833\n",
            "Epoch: 1100 | Loss: 0.00179 | Test Loss: 2.77668\n"
          ]
        }
      ]
    }
  ]
}