{
  "nbformat": 4,
  "nbformat_minor": 0,
  "metadata": {
    "colab": {
      "provenance": []
    },
    "kernelspec": {
      "name": "python3",
      "display_name": "Python 3"
    },
    "language_info": {
      "name": "python"
    }
  },
  "cells": [
    {
      "cell_type": "code",
      "execution_count": 62,
      "metadata": {
        "id": "IeRK2SXyAinH"
      },
      "outputs": [],
      "source": [
        "import pandas as pd\n",
        "import numpy as np\n",
        "import matplotlib.pyplot as plt\n",
        "plt.style.use('fivethirtyeight')\n",
        "import seaborn as sns\n",
        "import warnings\n",
        "warnings.filterwarnings('ignore')\n",
        "%matplotlib inline\n",
        "import torch\n",
        "from torch import nn\n",
        "from torch.utils.data import DataLoader, TensorDataset"
      ]
    },
    {
      "cell_type": "code",
      "source": [
        "X_train = np.linspace(-1, 1, 20)"
      ],
      "metadata": {
        "id": "DmkaQRL2BTX1"
      },
      "execution_count": 63,
      "outputs": []
    },
    {
      "cell_type": "code",
      "source": [
        "y_train = np.array([-0.6561 , -0.3099 , -0.59035, -0.50855, -0.285  ,\n",
        "                    -0.2443 , -0.02445,  0.00135, -0.2006 ,  0.07475,\n",
        "                    -0.1422 ,  0.06515,  0.15265,  0.3521 ,  0.28415,\n",
        "                    0.5524 ,  0.23115,  0.20835, 0.4211,  0.60485])"
      ],
      "metadata": {
        "id": "SP6jaeh2Bcyl"
      },
      "execution_count": 64,
      "outputs": []
    },
    {
      "cell_type": "code",
      "source": [
        "X_test = np.linspace(-1, 1, 20)"
      ],
      "metadata": {
        "id": "OGOLwH84C2jw"
      },
      "execution_count": 65,
      "outputs": []
    },
    {
      "cell_type": "code",
      "source": [
        "y_test = np.array([-0.69415, -0.451  , -0.43005, -0.4484 , -0.1475 ,\n",
        "                   -0.5019 , -0.28055,  0.24595, -0.21425, -0.0286 ,\n",
        "                   0.23415,  0.46575, 0.07955,  0.1973 ,  0.0719 ,\n",
        "                   0.3639 ,  0.5536 ,  0.3365 , 0.50705,  0.33435])"
      ],
      "metadata": {
        "id": "v-APOQuvBnrz"
      },
      "execution_count": 66,
      "outputs": []
    },
    {
      "cell_type": "code",
      "source": [
        "plt.scatter(X_train, y_train, c='red', label = 'Train')\n",
        "plt.scatter(X_test, y_test, c='blue', label = 'Test')\n",
        "plt.legend()\n",
        "plt.show()"
      ],
      "metadata": {
        "colab": {
          "base_uri": "https://localhost:8080/",
          "height": 449
        },
        "id": "PG70X4MEBvUq",
        "outputId": "f03f5819-8b40-4054-d223-653736b9a4b2"
      },
      "execution_count": 67,
      "outputs": [
        {
          "output_type": "display_data",
          "data": {
            "text/plain": [
              "<Figure size 640x480 with 1 Axes>"
            ],
            "image/png": "[encoded data removed]"
          },
          "metadata": {}
        }
      ]
    },
    {
      "cell_type": "code",
      "source": [
        "X_train = torch.from_numpy(X_train).type(torch.float)\n",
        "y_train = torch.from_numpy(y_train).type(torch.float)\n",
        "X_test = torch.from_numpy(X_test).type(torch.float)\n",
        "y_test = torch.from_numpy(y_test).type(torch.float)"
      ],
      "metadata": {
        "id": "jtKWb1XAC-T0"
      },
      "execution_count": 68,
      "outputs": []
    },
    {
      "cell_type": "code",
      "source": [
        "X_train = X_train.unsqueeze(dim=1)\n",
        "X_test = X_test.unsqueeze(dim=1)"
      ],
      "metadata": {
        "id": "Hg2BrbRHDSTT"
      },
      "execution_count": 69,
      "outputs": []
    },
    {
      "cell_type": "code",
      "source": [
        "type(X_train)"
      ],
      "metadata": {
        "colab": {
          "base_uri": "https://localhost:8080/"
        },
        "id": "SU6Uoaw2DXt7",
        "outputId": "c9ec85c1-aea6-4c00-d169-90b98d7d7ab7"
      },
      "execution_count": 70,
      "outputs": [
        {
          "output_type": "execute_result",
          "data": {
            "text/plain": [
              "torch.Tensor"
            ]
          },
          "metadata": {},
          "execution_count": 70
        }
      ]
    },
    {
      "cell_type": "code",
      "source": [
        "device= \"cuda\" if torch.cuda.is_available() else \"cpu\"\n",
        "device"
      ],
      "metadata": {
        "colab": {
          "base_uri": "https://localhost:8080/",
          "height": 36
        },
        "id": "rEEX4lsVDaUQ",
        "outputId": "bee7069b-857b-42d8-b711-4acf6e7b9af9"
      },
      "execution_count": 71,
      "outputs": [
        {
          "output_type": "execute_result",
          "data": {
            "text/plain": [
              "'cuda'"
            ],
            "application/vnd.google.colaboratory.intrinsic+json": {
              "type": "string"
            }
          },
          "metadata": {},
          "execution_count": 71
        }
      ]
    },
    {
      "cell_type": "code",
      "source": [
        "y_train.shape"
      ],
      "metadata": {
        "colab": {
          "base_uri": "https://localhost:8080/"
        },
        "id": "OL_Cj2JSH_Rn",
        "outputId": "ddee0712-2f03-4fd7-dfb9-4d06546fb189"
      },
      "execution_count": 72,
      "outputs": [
        {
          "output_type": "execute_result",
          "data": {
            "text/plain": [
              "torch.Size([20])"
            ]
          },
          "metadata": {},
          "execution_count": 72
        }
      ]
    },
    {
      "cell_type": "markdown",
      "source": [
        "# Model"
      ],
      "metadata": {
        "id": "3QM6oI_JDmNG"
      }
    },
    {
      "cell_type": "code",
      "source": [
        "class Model(nn.Module):\n",
        "  def __init__(self):\n",
        "    super().__init__()\n",
        "    self.linear_layer_stack = nn.Sequential(\n",
        "        nn.Linear(in_features=1, out_features=20),\n",
        "        nn.ReLU(),\n",
        "        nn.Linear(in_features=20, out_features=1)\n",
        "    )\n",
        "  def forward(self, x):\n",
        "    return self.linear_layer_stack(x)\n",
        "\n",
        "model = Model().to(device)\n",
        "model"
      ],
      "metadata": {
        "colab": {
          "base_uri": "https://localhost:8080/"
        },
        "id": "xSP9YTpJDi-_",
        "outputId": "ac6edfdd-c39c-453e-d47b-b50366696f18"
      },
      "execution_count": 73,
      "outputs": [
        {
          "output_type": "execute_result",
          "data": {
            "text/plain": [
              "Model(\n",
              "  (linear_layer_stack): Sequential(\n",
              "    (0): Linear(in_features=1, out_features=20, bias=True)\n",
              "    (1): ReLU()\n",
              "    (2): Linear(in_features=20, out_features=1, bias=True)\n",
              "  )\n",
              ")"
            ]
          },
          "metadata": {},
          "execution_count": 73
        }
      ]
    },
    {
      "cell_type": "code",
      "source": [
        "criterion = nn.MSELoss()\n",
        "optimizer = torch.optim.Adam(params=model.parameters(), lr=0.01)"
      ],
      "metadata": {
        "id": "uXQDUh9TF_i3"
      },
      "execution_count": 74,
      "outputs": []
    },
    {
      "cell_type": "code",
      "source": [
        "torch.manual_seed(42)\n",
        "torch.cuda.manual_seed(42)\n",
        "\n",
        "# Set the number of epochs\n",
        "epochs = 100\n",
        "\n",
        "# Put data on the target device\n",
        "X_train = X_train.to(device)\n",
        "y_train = y_train.to(device)\n",
        "X_test = X_test.to(device)\n",
        "y_test = y_test.to(device)\n",
        "\n",
        "for epoch in range(epochs):\n",
        "  model.train()\n",
        "\n",
        "  # forward\n",
        "  y_pred = model(X_train)\n",
        "  loss = criterion(y_pred, y_train)\n",
        "\n",
        "  # optimizer zero grad\n",
        "  optimizer.zero_grad()\n",
        "\n",
        "# backward\n",
        "  loss.backward()\n",
        "\n",
        "  # optimizer step\n",
        "  optimizer.step()\n",
        "\n",
        "# Testing\n",
        "  model.eval()\n",
        "  with torch.inference_mode():\n",
        "    test_pred = model(X_test)\n",
        "    test_loss = criterion(test_pred, y_test)\n",
        "\n",
        "    if epoch % 10 == 0:\n",
        "      print(f\"Epoch: {epoch} | Loss: {loss} | Test Loss: {test_loss}\")\n"
      ],
      "metadata": {
        "colab": {
          "base_uri": "https://localhost:8080/"
        },
        "id": "bACRh6TeGQ4G",
        "outputId": "d691e7f3-51a1-43d3-8df3-edbc55178ef7"
      },
      "execution_count": 75,
      "outputs": [
        {
          "output_type": "stream",
          "name": "stdout",
          "text": [
            "Epoch: 0 | Loss: 0.18859601020812988 | Test Loss: 0.175638347864151\n",
            "Epoch: 10 | Loss: 0.1338011473417282 | Test Loss: 0.14215604960918427\n",
            "Epoch: 20 | Loss: 0.1291135549545288 | Test Loss: 0.14194178581237793\n",
            "Epoch: 30 | Loss: 0.12728263437747955 | Test Loss: 0.13929666578769684\n",
            "Epoch: 40 | Loss: 0.1263737976551056 | Test Loss: 0.13952380418777466\n",
            "Epoch: 50 | Loss: 0.12612509727478027 | Test Loss: 0.13865654170513153\n",
            "Epoch: 60 | Loss: 0.12602491676807404 | Test Loss: 0.1389489769935608\n",
            "Epoch: 70 | Loss: 0.12597593665122986 | Test Loss: 0.13867712020874023\n",
            "Epoch: 80 | Loss: 0.1259557455778122 | Test Loss: 0.13877040147781372\n",
            "Epoch: 90 | Loss: 0.12594638764858246 | Test Loss: 0.13872474431991577\n"
          ]
        }
      ]
    },
    {
      "cell_type": "code",
      "source": [
        "class Model(nn.Module):\n",
        "  def __init__(self):\n",
        "    super().__init__()\n",
        "    self.linear_layer_stack = nn.Sequential(\n",
        "        nn.Linear(in_features=1, out_features=128),\n",
        "        nn.ReLU(),\n",
        "        nn.Dropout(p=0.2),\n",
        "        nn.Linear(in_features=128, out_features=128),\n",
        "        nn.ReLU(),\n",
        "        nn.Dropout(p=0.2),\n",
        "        nn.Linear(in_features=128, out_features=1)\n",
        "    )\n",
        "  def forward(self, x):\n",
        "    return self.linear_layer_stack(x)\n",
        "\n",
        "model = Model().to(device)\n",
        "model"
      ],
      "metadata": {
        "colab": {
          "base_uri": "https://localhost:8080/"
        },
        "id": "rp2uwOPZG9Ln",
        "outputId": "43e2d5b6-488c-4329-a023-b5356c0cfb68"
      },
      "execution_count": 80,
      "outputs": [
        {
          "output_type": "execute_result",
          "data": {
            "text/plain": [
              "Model(\n",
              "  (linear_layer_stack): Sequential(\n",
              "    (0): Linear(in_features=1, out_features=128, bias=True)\n",
              "    (1): ReLU()\n",
              "    (2): Dropout(p=0.2, inplace=False)\n",
              "    (3): Linear(in_features=128, out_features=128, bias=True)\n",
              "    (4): ReLU()\n",
              "    (5): Dropout(p=0.2, inplace=False)\n",
              "    (6): Linear(in_features=128, out_features=1, bias=True)\n",
              "  )\n",
              ")"
            ]
          },
          "metadata": {},
          "execution_count": 80
        }
      ]
    },
    {
      "cell_type": "code",
      "source": [
        "criterion = nn.MSELoss()\n",
        "optimizer = torch.optim.Adam(params=model.parameters(), lr=0.001)"
      ],
      "metadata": {
        "id": "2McBqhTtLEOu"
      },
      "execution_count": 81,
      "outputs": []
    },
    {
      "cell_type": "code",
      "source": [
        "torch.manual_seed(42)\n",
        "torch.cuda.manual_seed(42)\n",
        "\n",
        "# Set the number of epochs\n",
        "epochs = 500\n",
        "\n",
        "# Put data on the target device\n",
        "X_train = X_train.to(device)\n",
        "y_train = y_train.to(device)\n",
        "X_test = X_test.to(device)\n",
        "y_test = y_test.to(device)\n",
        "\n",
        "for epoch in range(epochs):\n",
        "  model.train()\n",
        "\n",
        "  # forward\n",
        "  y_pred = model(X_train)\n",
        "  loss = criterion(y_pred, y_train)\n",
        "\n",
        "  # optimizer zero grad\n",
        "  optimizer.zero_grad()\n",
        "\n",
        "# backward\n",
        "  loss.backward()\n",
        "\n",
        "  # optimizer step\n",
        "  optimizer.step()\n",
        "\n",
        "# Testing\n",
        "  model.eval()\n",
        "  with torch.inference_mode():\n",
        "    test_pred = model(X_test)\n",
        "    test_loss = criterion(test_pred, y_test)\n",
        "\n",
        "    if epoch % 10 == 0:\n",
        "      print(f\"Epoch: {epoch} | Loss: {loss} | Test Loss: {test_loss}\")\n"
      ],
      "metadata": {
        "colab": {
          "base_uri": "https://localhost:8080/"
        },
        "id": "MrfxsZxsLJYM",
        "outputId": "22dd166a-10dd-4148-85a3-9ea58b2472ff"
      },
      "execution_count": 78,
      "outputs": [
        {
          "output_type": "stream",
          "name": "stdout",
          "text": [
            "Epoch: 0 | Loss: 0.1344798505306244 | Test Loss: 0.145652636885643\n",
            "Epoch: 10 | Loss: 0.13502468168735504 | Test Loss: 0.14051887392997742\n",
            "Epoch: 20 | Loss: 0.12869739532470703 | Test Loss: 0.13951978087425232\n",
            "Epoch: 30 | Loss: 0.12937532365322113 | Test Loss: 0.13892453908920288\n",
            "Epoch: 40 | Loss: 0.12820319831371307 | Test Loss: 0.13873320817947388\n",
            "Epoch: 50 | Loss: 0.1292906403541565 | Test Loss: 0.13867995142936707\n",
            "Epoch: 60 | Loss: 0.12717674672603607 | Test Loss: 0.13871294260025024\n",
            "Epoch: 70 | Loss: 0.1278034746646881 | Test Loss: 0.1386706680059433\n",
            "Epoch: 80 | Loss: 0.12684854865074158 | Test Loss: 0.13865070044994354\n",
            "Epoch: 90 | Loss: 0.12716113030910492 | Test Loss: 0.1386464238166809\n",
            "Epoch: 100 | Loss: 0.12657581269741058 | Test Loss: 0.13865327835083008\n",
            "Epoch: 110 | Loss: 0.12675632536411285 | Test Loss: 0.13865338265895844\n",
            "Epoch: 120 | Loss: 0.12656821310520172 | Test Loss: 0.13866646587848663\n",
            "Epoch: 130 | Loss: 0.12764111161231995 | Test Loss: 0.13865885138511658\n",
            "Epoch: 140 | Loss: 0.12660779058933258 | Test Loss: 0.13865135610103607\n",
            "Epoch: 150 | Loss: 0.1265343427658081 | Test Loss: 0.13864728808403015\n",
            "Epoch: 160 | Loss: 0.12640750408172607 | Test Loss: 0.1386537402868271\n",
            "Epoch: 170 | Loss: 0.12643301486968994 | Test Loss: 0.1386404186487198\n",
            "Epoch: 180 | Loss: 0.12630340456962585 | Test Loss: 0.13863477110862732\n",
            "Epoch: 190 | Loss: 0.12660883367061615 | Test Loss: 0.13863100111484528\n",
            "Epoch: 200 | Loss: 0.12633700668811798 | Test Loss: 0.13864393532276154\n",
            "Epoch: 210 | Loss: 0.12640710175037384 | Test Loss: 0.1386553794145584\n",
            "Epoch: 220 | Loss: 0.126138374209404 | Test Loss: 0.13864260911941528\n",
            "Epoch: 230 | Loss: 0.12629032135009766 | Test Loss: 0.13863572478294373\n",
            "Epoch: 240 | Loss: 0.12628936767578125 | Test Loss: 0.13863004744052887\n",
            "Epoch: 250 | Loss: 0.12623633444309235 | Test Loss: 0.13864031434059143\n",
            "Epoch: 260 | Loss: 0.12631390988826752 | Test Loss: 0.13862904906272888\n",
            "Epoch: 270 | Loss: 0.12621507048606873 | Test Loss: 0.13862477242946625\n",
            "Epoch: 280 | Loss: 0.12609638273715973 | Test Loss: 0.13863526284694672\n",
            "Epoch: 290 | Loss: 0.12621532380580902 | Test Loss: 0.13865602016448975\n",
            "Epoch: 300 | Loss: 0.12632407248020172 | Test Loss: 0.13864357769489288\n",
            "Epoch: 310 | Loss: 0.1261882334947586 | Test Loss: 0.1386425942182541\n",
            "Epoch: 320 | Loss: 0.1261933445930481 | Test Loss: 0.13864558935165405\n",
            "Epoch: 330 | Loss: 0.12622931599617004 | Test Loss: 0.13863511383533478\n",
            "Epoch: 340 | Loss: 0.1263059675693512 | Test Loss: 0.1386556625366211\n",
            "Epoch: 350 | Loss: 0.12634935975074768 | Test Loss: 0.13866423070430756\n",
            "Epoch: 360 | Loss: 0.1261873096227646 | Test Loss: 0.1386457234621048\n",
            "Epoch: 370 | Loss: 0.1260865330696106 | Test Loss: 0.13863979279994965\n",
            "Epoch: 380 | Loss: 0.1260969638824463 | Test Loss: 0.13865548372268677\n",
            "Epoch: 390 | Loss: 0.12602151930332184 | Test Loss: 0.138649120926857\n",
            "Epoch: 400 | Loss: 0.12604103982448578 | Test Loss: 0.13864491879940033\n",
            "Epoch: 410 | Loss: 0.1260518580675125 | Test Loss: 0.1386483907699585\n",
            "Epoch: 420 | Loss: 0.12622907757759094 | Test Loss: 0.13866308331489563\n",
            "Epoch: 430 | Loss: 0.12613338232040405 | Test Loss: 0.13867159187793732\n",
            "Epoch: 440 | Loss: 0.12603595852851868 | Test Loss: 0.13867373764514923\n",
            "Epoch: 450 | Loss: 0.1260644644498825 | Test Loss: 0.13866479694843292\n",
            "Epoch: 460 | Loss: 0.12601833045482635 | Test Loss: 0.13865479826927185\n",
            "Epoch: 470 | Loss: 0.12604305148124695 | Test Loss: 0.13866452872753143\n",
            "Epoch: 480 | Loss: 0.1260610669851303 | Test Loss: 0.13866902887821198\n",
            "Epoch: 490 | Loss: 0.1260317713022232 | Test Loss: 0.1386559009552002\n"
          ]
        }
      ]
    },
    {
      "cell_type": "code",
      "source": [
        "torch.manual_seed(42)\n",
        "torch.cuda.manual_seed(42)\n",
        "\n",
        "# Set the number of epochs\n",
        "epochs = 500\n",
        "\n",
        "# Put data on the target device\n",
        "X_train = X_train.to(device)\n",
        "y_train = y_train.to(device)\n",
        "X_test = X_test.to(device)\n",
        "y_test = y_test.to(device)\n",
        "\n",
        "train_dataset = TensorDataset(X_train, y_train)\n",
        "train_loader = DataLoader(train_dataset, batch_size=32, shuffle=True)\n",
        "\n",
        "\n",
        "for epoch in range(epochs):\n",
        "  for X_batch, y_batch in train_loader:\n",
        "    model.train()\n",
        "\n",
        "  # forward\n",
        "    y_pred = model(X_train)\n",
        "    loss = criterion(y_pred, y_train)\n",
        "\n",
        "  # optimizer zero grad\n",
        "    optimizer.zero_grad()\n",
        "\n",
        "# backward\n",
        "    loss.backward()\n",
        "\n",
        "  # optimizer step\n",
        "    optimizer.step()\n",
        "\n",
        "# Testing\n",
        "  model.eval()\n",
        "  with torch.inference_mode():\n",
        "    test_pred = model(X_test)\n",
        "    test_loss = criterion(test_pred, y_test)\n",
        "\n",
        "    if epoch % 10 == 0:\n",
        "      print(f\"Epoch: {epoch} | Loss: {loss} | Test Loss: {test_loss}\")\n"
      ],
      "metadata": {
        "colab": {
          "base_uri": "https://localhost:8080/"
        },
        "id": "_1JdAyiDLMK5",
        "outputId": "6702a008-245a-4954-b29d-ca51a4bac151"
      },
      "execution_count": 82,
      "outputs": [
        {
          "output_type": "stream",
          "name": "stdout",
          "text": [
            "Epoch: 0 | Loss: 0.13738678395748138 | Test Loss: 0.13941407203674316\n",
            "Epoch: 10 | Loss: 0.13102073967456818 | Test Loss: 0.14011354744434357\n",
            "Epoch: 20 | Loss: 0.12900134921073914 | Test Loss: 0.1389959752559662\n",
            "Epoch: 30 | Loss: 0.12845966219902039 | Test Loss: 0.1389089971780777\n",
            "Epoch: 40 | Loss: 0.12685851752758026 | Test Loss: 0.13869410753250122\n",
            "Epoch: 50 | Loss: 0.1268494725227356 | Test Loss: 0.1386459618806839\n",
            "Epoch: 60 | Loss: 0.12659290432929993 | Test Loss: 0.13864366710186005\n",
            "Epoch: 70 | Loss: 0.12645462155342102 | Test Loss: 0.13864769041538239\n",
            "Epoch: 80 | Loss: 0.12652643024921417 | Test Loss: 0.138673797249794\n",
            "Epoch: 90 | Loss: 0.12638550996780396 | Test Loss: 0.13866658508777618\n",
            "Epoch: 100 | Loss: 0.12636159360408783 | Test Loss: 0.1386236697435379\n",
            "Epoch: 110 | Loss: 0.1262817084789276 | Test Loss: 0.13861507177352905\n",
            "Epoch: 120 | Loss: 0.1261623501777649 | Test Loss: 0.1386159360408783\n",
            "Epoch: 130 | Loss: 0.12619639933109283 | Test Loss: 0.13861897587776184\n",
            "Epoch: 140 | Loss: 0.12613129615783691 | Test Loss: 0.13861995935440063\n",
            "Epoch: 150 | Loss: 0.1261894553899765 | Test Loss: 0.13861559331417084\n",
            "Epoch: 160 | Loss: 0.12608656287193298 | Test Loss: 0.13861098885536194\n",
            "Epoch: 170 | Loss: 0.12614932656288147 | Test Loss: 0.13861440122127533\n",
            "Epoch: 180 | Loss: 0.12608957290649414 | Test Loss: 0.13861042261123657\n",
            "Epoch: 190 | Loss: 0.1260240525007248 | Test Loss: 0.13860909640789032\n",
            "Epoch: 200 | Loss: 0.12609635293483734 | Test Loss: 0.13863427937030792\n",
            "Epoch: 210 | Loss: 0.12603217363357544 | Test Loss: 0.13860860466957092\n",
            "Epoch: 220 | Loss: 0.1260497123003006 | Test Loss: 0.13862597942352295\n",
            "Epoch: 230 | Loss: 0.12604191899299622 | Test Loss: 0.13861554861068726\n",
            "Epoch: 240 | Loss: 0.12602689862251282 | Test Loss: 0.13862697780132294\n",
            "Epoch: 250 | Loss: 0.12601827085018158 | Test Loss: 0.13861916959285736\n",
            "Epoch: 260 | Loss: 0.12597273290157318 | Test Loss: 0.13863904774188995\n",
            "Epoch: 270 | Loss: 0.12604214251041412 | Test Loss: 0.13864247500896454\n",
            "Epoch: 280 | Loss: 0.12598037719726562 | Test Loss: 0.138637974858284\n",
            "Epoch: 290 | Loss: 0.12596701085567474 | Test Loss: 0.13864542543888092\n",
            "Epoch: 300 | Loss: 0.12596549093723297 | Test Loss: 0.1386372298002243\n",
            "Epoch: 310 | Loss: 0.12599824368953705 | Test Loss: 0.1386410892009735\n",
            "Epoch: 320 | Loss: 0.12595272064208984 | Test Loss: 0.13865581154823303\n",
            "Epoch: 330 | Loss: 0.1259910613298416 | Test Loss: 0.13863950967788696\n",
            "Epoch: 340 | Loss: 0.1260250210762024 | Test Loss: 0.1386360377073288\n",
            "Epoch: 350 | Loss: 0.12596607208251953 | Test Loss: 0.1386413872241974\n",
            "Epoch: 360 | Loss: 0.1259852647781372 | Test Loss: 0.13865838944911957\n",
            "Epoch: 370 | Loss: 0.12597376108169556 | Test Loss: 0.13865593075752258\n",
            "Epoch: 380 | Loss: 0.12597998976707458 | Test Loss: 0.13864250481128693\n",
            "Epoch: 390 | Loss: 0.12594938278198242 | Test Loss: 0.13866391777992249\n",
            "Epoch: 400 | Loss: 0.12595321238040924 | Test Loss: 0.1386585235595703\n",
            "Epoch: 410 | Loss: 0.12596085667610168 | Test Loss: 0.1386619359254837\n",
            "Epoch: 420 | Loss: 0.12595531344413757 | Test Loss: 0.13864730298519135\n",
            "Epoch: 430 | Loss: 0.1259394735097885 | Test Loss: 0.13867828249931335\n",
            "Epoch: 440 | Loss: 0.12594065070152283 | Test Loss: 0.13865455985069275\n",
            "Epoch: 450 | Loss: 0.12595541775226593 | Test Loss: 0.1386643946170807\n",
            "Epoch: 460 | Loss: 0.1259753704071045 | Test Loss: 0.13867950439453125\n",
            "Epoch: 470 | Loss: 0.12596045434474945 | Test Loss: 0.1386679708957672\n",
            "Epoch: 480 | Loss: 0.12595084309577942 | Test Loss: 0.13866759836673737\n",
            "Epoch: 490 | Loss: 0.12594012916088104 | Test Loss: 0.13869236409664154\n"
          ]
        }
      ]
    }
  ]
}